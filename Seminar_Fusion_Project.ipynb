{
 "cells": [
  {
   "cell_type": "code",
   "execution_count": 17,
   "metadata": {},
   "outputs": [],
   "source": [
    "import json\n",
    "import pandas as pd"
   ]
  },
  {
   "cell_type": "code",
   "execution_count": 3,
   "metadata": {},
   "outputs": [],
   "source": [
    "trust_score_weight = [0.3, 0.7]"
   ]
  },
  {
   "cell_type": "markdown",
   "metadata": {},
   "source": [
    "# Compute Foursquare trust score for each tuple"
   ]
  },
  {
   "cell_type": "code",
   "execution_count": 4,
   "metadata": {},
   "outputs": [],
   "source": [
    "def open_fs_json(fs_file_name):\n",
    "    \"\"\"Read foursquare json files\n",
    "    input: foursquare file name\n",
    "    output: json_formatted restaurant tuples\n",
    "    \"\"\"\n",
    "    with open(fs_file_name) as fs_json:\n",
    "        fs_restaurants = json.load(fs_json)\n",
    "    return fs_restaurants"
   ]
  },
  {
   "cell_type": "code",
   "execution_count": 5,
   "metadata": {},
   "outputs": [],
   "source": [
    "# load foursquare restaurant tuples for each data collection day: 0324, 0331, 0406\n",
    "fs_restaurants_0324 = open_fs_json('Semiar_FS_0324.json')\n",
    "fs_restaurants_0331 = open_fs_json('Semiar_FS_0331.json')\n",
    "fs_restaurants_0406 = open_fs_json('Semiar_FS_0406.json')"
   ]
  },
  {
   "cell_type": "code",
   "execution_count": 6,
   "metadata": {},
   "outputs": [],
   "source": [
    "def json_to_checkin(fs_restaurants):\n",
    "    \"\"\"extract checkins for each restaurant tuple\n",
    "    input: json_formatted restaurant tuples\n",
    "    output: list of restaurant-wise checkins\n",
    "    \"\"\"\n",
    "    restaurant_checkins_list = []\n",
    "    for restaurant in fs_restaurants:\n",
    "        checkin = restaurant['response']['venue']['stats']['checkinsCount']\n",
    "        restaurant_checkins_list.append(checkin)\n",
    "    return restaurant_checkins_list"
   ]
  },
  {
   "cell_type": "code",
   "execution_count": 7,
   "metadata": {},
   "outputs": [],
   "source": [
    "# generate foursquare restaurant checkin lists for each data collection day: 0324, 0331, 0406\n",
    "restaurant_checkins_list_0324 = json_to_checkin(fs_restaurants_0324)\n",
    "restaurant_checkins_list_0331 = json_to_checkin(fs_restaurants_0331)\n",
    "restaurant_checkins_list_0406 = json_to_checkin(fs_restaurants_0406)"
   ]
  },
  {
   "cell_type": "code",
   "execution_count": 8,
   "metadata": {},
   "outputs": [],
   "source": [
    "def checkin_to_diff(checkins_lists, durations):\n",
    "    \"\"\"generate checkin differences for each duration of data collection\n",
    "    input: all checkins lists, length(number of days) of each duration\n",
    "    ouput: lists of checkins differences\n",
    "    \n",
    "    \"\"\"\n",
    "    checkins_diffs_list = []\n",
    "    for lists_idx in range(len(checkins_lists)-1):\n",
    "        # a pair of checkins is zipped together for computational convenience\n",
    "        list_pair_zipped = list(zip(checkins_lists[lists_idx],checkins_lists[lists_idx+1]))\n",
    "#         checkins_diff = []\n",
    "        for pair_idx in range(len(list_pair_zipped)):# the element update should be assisted by index\n",
    "        # daily difference\n",
    "            list_pair_zipped[pair_idx] \\\n",
    "            = (list_pair_zipped[pair_idx][1]-list_pair_zipped[pair_idx][0])/durations[lists_idx]\n",
    "        checkins_diffs_list.append(list_pair_zipped)\n",
    "    return checkins_diffs_list"
   ]
  },
  {
   "cell_type": "code",
   "execution_count": 9,
   "metadata": {},
   "outputs": [],
   "source": [
    "checkins_lists = [restaurant_checkins_list_0324, restaurant_checkins_list_0331, restaurant_checkins_list_0406]\n",
    "durations = [7,6]"
   ]
  },
  {
   "cell_type": "code",
   "execution_count": 10,
   "metadata": {},
   "outputs": [],
   "source": [
    "# lists of checkins differences\n",
    "checkins_diffs_list = checkin_to_diff(checkins_lists, durations)"
   ]
  },
  {
   "cell_type": "code",
   "execution_count": 11,
   "metadata": {},
   "outputs": [],
   "source": [
    "# zipped difference together\n",
    "checkins_diffs_zipped = list(zip(*checkins_diffs_list))"
   ]
  },
  {
   "cell_type": "code",
   "execution_count": 12,
   "metadata": {},
   "outputs": [],
   "source": [
    "# Foursquare\n",
    "# sum up the daily difference to obtain the trust value for each tuple\n",
    "trust_scores_list_FS = []\n",
    "for diffs in checkins_diffs_zipped:\n",
    "    trust_score_FS = trust_score_weight[0]*abs(diffs[0]) + trust_score_weight[1]*abs(diffs[1])\n",
    "    trust_scores_list_FS.append(trust_score_FS)"
   ]
  },
  {
   "cell_type": "code",
   "execution_count": 14,
   "metadata": {},
   "outputs": [
    {
     "data": {
      "text/plain": [
       "[0.04285714285714285, 0.0, 0.2333333333333333, 0.11666666666666665, 0.0]"
      ]
     },
     "execution_count": 14,
     "metadata": {},
     "output_type": "execute_result"
    }
   ],
   "source": [
    "# trust score for the first 5 restaurants\n",
    "trust_scores_list_FS[0:5]"
   ]
  },
  {
   "cell_type": "code",
   "execution_count": 18,
   "metadata": {},
   "outputs": [],
   "source": [
    "# dataframe to save trust scores\n",
    "trust_scores_df = pd.DataFrame({'trust_score_FS':trust_scores_list_FS})"
   ]
  },
  {
   "cell_type": "code",
   "execution_count": 20,
   "metadata": {},
   "outputs": [],
   "source": [
    "trust_scores_df.to_pickle('trust_scores_df')"
   ]
  },
  {
   "cell_type": "markdown",
   "metadata": {},
   "source": [
    "# Compute Yelp trust score for each tuple"
   ]
  },
  {
   "cell_type": "code",
   "execution_count": null,
   "metadata": {},
   "outputs": [],
   "source": [
    "    with open(fs_file_name) as fs_json:\n",
    "        fs_restaurants = json.load(fs_json)"
   ]
  }
 ],
 "metadata": {
  "kernelspec": {
   "display_name": "Python 3",
   "language": "python",
   "name": "python3"
  },
  "language_info": {
   "codemirror_mode": {
    "name": "ipython",
    "version": 3
   },
   "file_extension": ".py",
   "mimetype": "text/x-python",
   "name": "python",
   "nbconvert_exporter": "python",
   "pygments_lexer": "ipython3",
   "version": "3.6.6"
  }
 },
 "nbformat": 4,
 "nbformat_minor": 2
}
