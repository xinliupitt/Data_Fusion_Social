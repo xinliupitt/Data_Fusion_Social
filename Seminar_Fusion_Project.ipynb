{
 "cells": [
  {
   "cell_type": "code",
   "execution_count": 1,
   "metadata": {},
   "outputs": [],
   "source": [
    "import json\n",
    "import pandas as pd"
   ]
  },
  {
   "cell_type": "code",
   "execution_count": 2,
   "metadata": {},
   "outputs": [],
   "source": [
    "trust_score_weight = [0.3, 0.7]"
   ]
  },
  {
   "cell_type": "markdown",
   "metadata": {},
   "source": [
    "# Compute Foursquare trust score for each tuple"
   ]
  },
  {
   "cell_type": "code",
   "execution_count": 72,
   "metadata": {},
   "outputs": [],
   "source": [
    "def open_fs_json(fs_file_name):\n",
    "    \"\"\"Read foursquare json files\n",
    "    input: foursquare file name\n",
    "    output: json_formatted restaurant tuples\n",
    "    \"\"\"\n",
    "    with open(fs_file_name) as fs_json:\n",
    "        fs_restaurants = json.load(fs_json)\n",
    "    return fs_restaurants"
   ]
  },
  {
   "cell_type": "code",
   "execution_count": 73,
   "metadata": {},
   "outputs": [],
   "source": [
    "# load foursquare restaurant tuples for each data collection day: 0324, 0331, 0406\n",
    "fs_restaurants_0324 = open_fs_json('Semiar_FS_0324.json')\n",
    "fs_restaurants_0331 = open_fs_json('Semiar_FS_0331.json')\n",
    "fs_restaurants_0406 = open_fs_json('Semiar_FS_0406.json')"
   ]
  },
  {
   "cell_type": "code",
   "execution_count": 6,
   "metadata": {},
   "outputs": [],
   "source": [
    "def json_to_checkin(fs_restaurants):\n",
    "    \"\"\"extract checkins for each restaurant tuple\n",
    "    input: json_formatted restaurant tuples\n",
    "    output: list of restaurant-wise checkins\n",
    "    \"\"\"\n",
    "    restaurant_checkins_list = []\n",
    "    for restaurant in fs_restaurants:\n",
    "        checkin = restaurant['response']['venue']['stats']['checkinsCount']\n",
    "        restaurant_checkins_list.append(checkin)\n",
    "    return restaurant_checkins_list"
   ]
  },
  {
   "cell_type": "code",
   "execution_count": 7,
   "metadata": {},
   "outputs": [],
   "source": [
    "# generate foursquare restaurant checkin lists for each data collection day: 0324, 0331, 0406\n",
    "restaurant_checkins_list_0324 = json_to_checkin(fs_restaurants_0324)\n",
    "restaurant_checkins_list_0331 = json_to_checkin(fs_restaurants_0331)\n",
    "restaurant_checkins_list_0406 = json_to_checkin(fs_restaurants_0406)"
   ]
  },
  {
   "cell_type": "code",
   "execution_count": 8,
   "metadata": {},
   "outputs": [],
   "source": [
    "def checkin_to_diff(checkins_lists, durations):\n",
    "    \"\"\"generate checkin differences for each duration of data collection\n",
    "    input: all checkins lists, length(number of days) of each duration\n",
    "    ouput: lists of checkins differences\n",
    "    \n",
    "    \"\"\"\n",
    "    checkins_diffs_list = []\n",
    "    for lists_idx in range(len(checkins_lists)-1):\n",
    "        # a pair of checkins is zipped together for computational convenience\n",
    "        list_pair_zipped = list(zip(checkins_lists[lists_idx],checkins_lists[lists_idx+1]))\n",
    "#         checkins_diff = []\n",
    "        for pair_idx in range(len(list_pair_zipped)):# the element update should be assisted by index\n",
    "        # daily difference\n",
    "            list_pair_zipped[pair_idx] \\\n",
    "            = (list_pair_zipped[pair_idx][1]-list_pair_zipped[pair_idx][0])/durations[lists_idx]\n",
    "        checkins_diffs_list.append(list_pair_zipped)\n",
    "    return checkins_diffs_list"
   ]
  },
  {
   "cell_type": "code",
   "execution_count": 9,
   "metadata": {},
   "outputs": [],
   "source": [
    "checkins_lists = [restaurant_checkins_list_0324, restaurant_checkins_list_0331, restaurant_checkins_list_0406]\n",
    "durations = [7,6]"
   ]
  },
  {
   "cell_type": "code",
   "execution_count": 10,
   "metadata": {},
   "outputs": [],
   "source": [
    "# lists of checkins differences\n",
    "checkins_diffs_list = checkin_to_diff(checkins_lists, durations)"
   ]
  },
  {
   "cell_type": "code",
   "execution_count": 11,
   "metadata": {},
   "outputs": [],
   "source": [
    "# zipped difference together\n",
    "checkins_diffs_zipped = list(zip(*checkins_diffs_list))"
   ]
  },
  {
   "cell_type": "code",
   "execution_count": 12,
   "metadata": {},
   "outputs": [],
   "source": [
    "# Foursquare\n",
    "# sum up the daily difference to obtain the trust value for each tuple\n",
    "trust_scores_list_FS = []\n",
    "for diffs in checkins_diffs_zipped:\n",
    "    trust_score_FS = trust_score_weight[0]*abs(diffs[0]) + trust_score_weight[1]*abs(diffs[1])\n",
    "    trust_scores_list_FS.append(trust_score_FS)"
   ]
  },
  {
   "cell_type": "code",
   "execution_count": 14,
   "metadata": {},
   "outputs": [
    {
     "data": {
      "text/plain": [
       "[0.04285714285714285, 0.0, 0.2333333333333333, 0.11666666666666665, 0.0]"
      ]
     },
     "execution_count": 14,
     "metadata": {},
     "output_type": "execute_result"
    }
   ],
   "source": [
    "# trust score for the first 5 restaurants\n",
    "trust_scores_list_FS[0:5]"
   ]
  },
  {
   "cell_type": "code",
   "execution_count": 18,
   "metadata": {},
   "outputs": [],
   "source": [
    "# dataframe to save trust scores\n",
    "trust_scores_df = pd.DataFrame({'trust_score_FS':trust_scores_list_FS})"
   ]
  },
  {
   "cell_type": "code",
   "execution_count": 20,
   "metadata": {},
   "outputs": [],
   "source": [
    "trust_scores_df.to_pickle('trust_scores_df')"
   ]
  },
  {
   "cell_type": "markdown",
   "metadata": {},
   "source": [
    "# Compute Yelp trust score for each tuple"
   ]
  },
  {
   "cell_type": "code",
   "execution_count": 3,
   "metadata": {},
   "outputs": [],
   "source": [
    "with open('Semiar_Yelp_0331.json') as Yelp_json:\n",
    "    Yelp_restaurants = json.load(Yelp_json)"
   ]
  },
  {
   "cell_type": "code",
   "execution_count": 16,
   "metadata": {},
   "outputs": [
    {
     "data": {
      "text/plain": [
       "False"
      ]
     },
     "execution_count": 16,
     "metadata": {},
     "output_type": "execute_result"
    }
   ],
   "source": [
    "'id' in Yelp_restaurants[4]"
   ]
  },
  {
   "cell_type": "code",
   "execution_count": 10,
   "metadata": {},
   "outputs": [],
   "source": [
    "def open_Yelp_json(Yelp_file_name):\n",
    "    \"\"\"Read Yelp json files\n",
    "    input: Yelp file name\n",
    "    output: json_formatted restaurant tuples\n",
    "    \"\"\"\n",
    "    with open(Yelp_file_name) as Yelp_json:\n",
    "        Yelp_restaurants = json.load(Yelp_json)\n",
    "    return Yelp_restaurants"
   ]
  },
  {
   "cell_type": "code",
   "execution_count": 11,
   "metadata": {},
   "outputs": [],
   "source": [
    "# load foursquare restaurant tuples for each data collection day: 0324, 0331, 0406\n",
    "Yelp_restaurants_0324 = open_Yelp_json('Semiar_Yelp_0324.json')\n",
    "Yelp_restaurants_0331 = open_Yelp_json('Semiar_Yelp_0331.json')\n",
    "Yelp_restaurants_0406 = open_Yelp_json('Semiar_Yelp_0406.json')"
   ]
  },
  {
   "cell_type": "code",
   "execution_count": 21,
   "metadata": {},
   "outputs": [],
   "source": [
    "def availability_Yelp(Yelp_json_list):\n",
    "    \"\"\" whether a Yelp restaurant info is available for a date\n",
    "    input: Yelp json files\n",
    "    output: restaurant availability\n",
    "    \"\"\"\n",
    "    Yelp_availability = []\n",
    "    for daily_json in Yelp_json_list:\n",
    "        Yelp_daily_availability = []\n",
    "        for restaurant in daily_json:\n",
    "            Yelp_daily_availability.append('id' in restaurant)\n",
    "        Yelp_availability.append(Yelp_daily_availability)\n",
    "    return Yelp_availability"
   ]
  },
  {
   "cell_type": "code",
   "execution_count": 22,
   "metadata": {},
   "outputs": [],
   "source": [
    "Yelp_json_list = [Yelp_restaurants_0324, Yelp_restaurants_0331, Yelp_restaurants_0406]\n",
    "Yelp_availability = availability_Yelp(Yelp_json_list)"
   ]
  },
  {
   "cell_type": "code",
   "execution_count": 25,
   "metadata": {},
   "outputs": [],
   "source": [
    "# zip availability\n",
    "Yelp_availability_zipped = list(zip(*Yelp_availability))"
   ]
  },
  {
   "cell_type": "code",
   "execution_count": 30,
   "metadata": {},
   "outputs": [],
   "source": [
    "idx_to_check = []\n",
    "for availability in Yelp_availability_zipped:\n",
    "    True_list  = []\n",
    "    for date_idx in range(len(availability)):\n",
    "        if availability[date_idx] == True:\n",
    "            True_list.append(date_idx)\n",
    "    idx_to_check.append(True_list)"
   ]
  },
  {
   "cell_type": "code",
   "execution_count": 35,
   "metadata": {},
   "outputs": [],
   "source": [
    "def diff_Yelp(Yelp_tuple_0, Yelp_tuple_1):\n",
    "    \"\"\" whether to add a trust score\n",
    "    input: Yelp json tuples\n",
    "    output: 1 or 0 (whethr to add or not)\n",
    "    \"\"\"\n",
    "    if (Yelp_tuple_0['image_url'] != Yelp_tuple_1['image_url'])\\\n",
    "    or (Yelp_tuple_0['photos'] != Yelp_tuple_1['photos']):\n",
    "        return 1\n",
    "    else:\n",
    "        return 0"
   ]
  },
  {
   "cell_type": "code",
   "execution_count": 37,
   "metadata": {},
   "outputs": [],
   "source": [
    "trust_scores_list_Yelp = []\n",
    "for restaurant_idx in range(len(Yelp_restaurants_0324)):\n",
    "    if len(idx_to_check[restaurant_idx]) == 3:\n",
    "        trust_score_Yelp = trust_score_weight[0] * diff_Yelp(Yelp_json_list[idx_to_check[restaurant_idx][0]][restaurant_idx], \\\n",
    "                                                    Yelp_json_list[idx_to_check[restaurant_idx][1]][restaurant_idx]) \\\n",
    "                            + trust_score_weight[1] * diff_Yelp(Yelp_json_list[idx_to_check[restaurant_idx][1]][restaurant_idx], \\\n",
    "                                                    Yelp_json_list[idx_to_check[restaurant_idx][2]][restaurant_idx])\n",
    "    elif len(idx_to_check[restaurant_idx]) == 2:\n",
    "        trust_score_Yelp = diff_Yelp(Yelp_json_list[idx_to_check[restaurant_idx][0]][restaurant_idx], \\\n",
    "                                     Yelp_json_list[idx_to_check[restaurant_idx][1]][restaurant_idx])\n",
    "    else:\n",
    "        trust_score_Yelp = 0\n",
    "    trust_scores_list_Yelp.append(trust_score_Yelp)"
   ]
  },
  {
   "cell_type": "code",
   "execution_count": 42,
   "metadata": {},
   "outputs": [],
   "source": [
    "trust_scores_df = pd.read_pickle('trust_scores_df')"
   ]
  },
  {
   "cell_type": "code",
   "execution_count": 44,
   "metadata": {},
   "outputs": [],
   "source": [
    "se = pd.Series(trust_scores_list_Yelp)\n",
    "trust_scores_df['trust_score_Yelp'] = se.values"
   ]
  },
  {
   "cell_type": "code",
   "execution_count": 46,
   "metadata": {},
   "outputs": [],
   "source": [
    "se = pd.Series(idx_to_check)\n",
    "trust_scores_df['idx_to_check_Yelp'] = se.values"
   ]
  },
  {
   "cell_type": "code",
   "execution_count": 54,
   "metadata": {},
   "outputs": [],
   "source": [
    "trust_scores_list_FS = trust_scores_df['trust_score_FS'].tolist()"
   ]
  },
  {
   "cell_type": "code",
   "execution_count": 58,
   "metadata": {},
   "outputs": [
    {
     "data": {
      "text/plain": [
       "[49.10238095238095,\n",
       " 9.72857142857143,\n",
       " 1.9166666666666665,\n",
       " 1.5857142857142856,\n",
       " 1.5]"
      ]
     },
     "execution_count": 58,
     "metadata": {},
     "output_type": "execute_result"
    }
   ],
   "source": [
    "sorted(trust_scores_list_FS, reverse = True)[0:5]"
   ]
  },
  {
   "cell_type": "code",
   "execution_count": 56,
   "metadata": {},
   "outputs": [],
   "source": [
    "# Treat 49.10238095238095 and 9.72857142857143 as outliers\n",
    "# normalize trust_score_FS\n",
    "trust_scores_list_FS_norm = []\n",
    "min_trust_score_FS = min(trust_scores_list_FS)\n",
    "max_trust_score_FS = 1.9166666666666665\n",
    "for trust_score in trust_scores_list_FS:\n",
    "    if trust_score > 2:\n",
    "        trust_scores_list_FS_norm.append(1)\n",
    "    else:\n",
    "        trust_score_norm = (float(trust_score) - min_trust_score_FS)/(max_trust_score_FS - min_trust_score_FS)\n",
    "        trust_scores_list_FS_norm.append(trust_score_norm)"
   ]
  },
  {
   "cell_type": "code",
   "execution_count": 59,
   "metadata": {},
   "outputs": [],
   "source": [
    "se = pd.Series(trust_scores_list_FS_norm)\n",
    "trust_scores_df['trust_score_FS_norm'] = se.values"
   ]
  },
  {
   "cell_type": "code",
   "execution_count": 60,
   "metadata": {},
   "outputs": [],
   "source": [
    "trust_scores_df.to_pickle('trust_scores_df')"
   ]
  },
  {
   "cell_type": "markdown",
   "metadata": {},
   "source": [
    "# Merge Foursquare and Yelp"
   ]
  },
  {
   "cell_type": "code",
   "execution_count": 65,
   "metadata": {},
   "outputs": [
    {
     "name": "stderr",
     "output_type": "stream",
     "text": [
      "/anaconda3/lib/python3.6/site-packages/ipykernel_launcher.py:4: SettingWithCopyWarning: \n",
      "A value is trying to be set on a copy of a slice from a DataFrame\n",
      "\n",
      "See the caveats in the documentation: http://pandas.pydata.org/pandas-docs/stable/indexing.html#indexing-view-versus-copy\n",
      "  after removing the cwd from sys.path.\n"
     ]
    }
   ],
   "source": [
    "# nullify trust_score_Yelp with no Yelp records\n",
    "for restaurant_idx in range(len(trust_scores_df)):\n",
    "    if not trust_scores_df['idx_to_check_Yelp'][restaurant_idx]:\n",
    "        trust_scores_df['trust_score_Yelp'][restaurant_idx] = None"
   ]
  },
  {
   "cell_type": "code",
   "execution_count": 69,
   "metadata": {},
   "outputs": [
    {
     "data": {
      "text/plain": [
       "True"
      ]
     },
     "execution_count": 69,
     "metadata": {},
     "output_type": "execute_result"
    }
   ],
   "source": [
    "str(trust_scores_df['trust_score_Yelp'][4] ) == 'nan'"
   ]
  },
  {
   "cell_type": "code",
   "execution_count": 82,
   "metadata": {},
   "outputs": [],
   "source": [
    "Foursquare_prices_recent = []\n",
    "Foursquare_ratings_recent = []\n",
    "for restaurant in fs_restaurants_0406:\n",
    "    if 'price' in restaurant['response']['venue']:\n",
    "        Foursquare_prices_recent.append(restaurant['response']['venue']['price']['tier'])\n",
    "    else:\n",
    "        Foursquare_prices_recent.append(None)\n",
    "    if 'rating' in restaurant['response']['venue']:\n",
    "        Foursquare_ratings_recent.append(restaurant['response']['venue']['rating'])\n",
    "    else:\n",
    "        Foursquare_ratings_recent.append(None)"
   ]
  },
  {
   "cell_type": "code",
   "execution_count": 90,
   "metadata": {},
   "outputs": [],
   "source": [
    "se = pd.Series(Foursquare_prices_recent)\n",
    "trust_scores_df['FS_prices_recent'] = se.values"
   ]
  },
  {
   "cell_type": "code",
   "execution_count": 91,
   "metadata": {},
   "outputs": [],
   "source": [
    "se = pd.Series(Foursquare_ratings_recent)\n",
    "trust_scores_df['FS_ratings_recent'] = se.values"
   ]
  },
  {
   "cell_type": "code",
   "execution_count": 93,
   "metadata": {},
   "outputs": [],
   "source": [
    "trust_scores_df.to_pickle('trust_scores_df')"
   ]
  },
  {
   "cell_type": "code",
   "execution_count": 96,
   "metadata": {},
   "outputs": [
    {
     "data": {
      "text/plain": [
       "'$'"
      ]
     },
     "execution_count": 96,
     "metadata": {},
     "output_type": "execute_result"
    }
   ],
   "source": [
    "Yelp_restaurants_0324[0]['price']"
   ]
  },
  {
   "cell_type": "code",
   "execution_count": 97,
   "metadata": {},
   "outputs": [
    {
     "data": {
      "text/plain": [
       "2.5"
      ]
     },
     "execution_count": 97,
     "metadata": {},
     "output_type": "execute_result"
    }
   ],
   "source": [
    "Yelp_restaurants_0324[0]['rating']"
   ]
  },
  {
   "cell_type": "code",
   "execution_count": 98,
   "metadata": {
    "scrolled": true
   },
   "outputs": [
    {
     "data": {
      "text/html": [
       "<div>\n",
       "<style scoped>\n",
       "    .dataframe tbody tr th:only-of-type {\n",
       "        vertical-align: middle;\n",
       "    }\n",
       "\n",
       "    .dataframe tbody tr th {\n",
       "        vertical-align: top;\n",
       "    }\n",
       "\n",
       "    .dataframe thead th {\n",
       "        text-align: right;\n",
       "    }\n",
       "</style>\n",
       "<table border=\"1\" class=\"dataframe\">\n",
       "  <thead>\n",
       "    <tr style=\"text-align: right;\">\n",
       "      <th></th>\n",
       "      <th>trust_score_FS</th>\n",
       "      <th>trust_score_Yelp</th>\n",
       "      <th>idx_to_check_Yelp</th>\n",
       "      <th>trust_score_FS_norm</th>\n",
       "      <th>FS_prices_recent</th>\n",
       "      <th>FS_ratings_recent</th>\n",
       "    </tr>\n",
       "  </thead>\n",
       "  <tbody>\n",
       "    <tr>\n",
       "      <th>0</th>\n",
       "      <td>0.042857</td>\n",
       "      <td>0.0</td>\n",
       "      <td>[0, 1, 2]</td>\n",
       "      <td>0.022360</td>\n",
       "      <td>1.0</td>\n",
       "      <td>6.8</td>\n",
       "    </tr>\n",
       "    <tr>\n",
       "      <th>1</th>\n",
       "      <td>0.000000</td>\n",
       "      <td>0.0</td>\n",
       "      <td>[0, 1, 2]</td>\n",
       "      <td>0.000000</td>\n",
       "      <td>1.0</td>\n",
       "      <td>6.0</td>\n",
       "    </tr>\n",
       "    <tr>\n",
       "      <th>2</th>\n",
       "      <td>0.233333</td>\n",
       "      <td>0.0</td>\n",
       "      <td>[0, 1, 2]</td>\n",
       "      <td>0.121739</td>\n",
       "      <td>1.0</td>\n",
       "      <td>7.3</td>\n",
       "    </tr>\n",
       "    <tr>\n",
       "      <th>3</th>\n",
       "      <td>0.116667</td>\n",
       "      <td>0.7</td>\n",
       "      <td>[0, 1, 2]</td>\n",
       "      <td>0.060870</td>\n",
       "      <td>1.0</td>\n",
       "      <td>5.5</td>\n",
       "    </tr>\n",
       "    <tr>\n",
       "      <th>4</th>\n",
       "      <td>0.000000</td>\n",
       "      <td>NaN</td>\n",
       "      <td>[]</td>\n",
       "      <td>0.000000</td>\n",
       "      <td>1.0</td>\n",
       "      <td>6.0</td>\n",
       "    </tr>\n",
       "    <tr>\n",
       "      <th>5</th>\n",
       "      <td>0.000000</td>\n",
       "      <td>0.0</td>\n",
       "      <td>[0, 1, 2]</td>\n",
       "      <td>0.000000</td>\n",
       "      <td>1.0</td>\n",
       "      <td>7.2</td>\n",
       "    </tr>\n",
       "    <tr>\n",
       "      <th>6</th>\n",
       "      <td>0.000000</td>\n",
       "      <td>0.0</td>\n",
       "      <td>[0, 1, 2]</td>\n",
       "      <td>0.000000</td>\n",
       "      <td>1.0</td>\n",
       "      <td>6.9</td>\n",
       "    </tr>\n",
       "    <tr>\n",
       "      <th>7</th>\n",
       "      <td>0.000000</td>\n",
       "      <td>1.0</td>\n",
       "      <td>[0, 2]</td>\n",
       "      <td>0.000000</td>\n",
       "      <td>1.0</td>\n",
       "      <td>5.3</td>\n",
       "    </tr>\n",
       "    <tr>\n",
       "      <th>8</th>\n",
       "      <td>0.116667</td>\n",
       "      <td>0.0</td>\n",
       "      <td>[0, 1, 2]</td>\n",
       "      <td>0.060870</td>\n",
       "      <td>1.0</td>\n",
       "      <td>5.1</td>\n",
       "    </tr>\n",
       "    <tr>\n",
       "      <th>9</th>\n",
       "      <td>0.000000</td>\n",
       "      <td>0.0</td>\n",
       "      <td>[0, 1, 2]</td>\n",
       "      <td>0.000000</td>\n",
       "      <td>1.0</td>\n",
       "      <td>7.3</td>\n",
       "    </tr>\n",
       "    <tr>\n",
       "      <th>10</th>\n",
       "      <td>0.000000</td>\n",
       "      <td>0.7</td>\n",
       "      <td>[0, 1, 2]</td>\n",
       "      <td>0.000000</td>\n",
       "      <td>1.0</td>\n",
       "      <td>6.1</td>\n",
       "    </tr>\n",
       "    <tr>\n",
       "      <th>11</th>\n",
       "      <td>0.116667</td>\n",
       "      <td>0.0</td>\n",
       "      <td>[1, 2]</td>\n",
       "      <td>0.060870</td>\n",
       "      <td>1.0</td>\n",
       "      <td>5.9</td>\n",
       "    </tr>\n",
       "    <tr>\n",
       "      <th>12</th>\n",
       "      <td>0.000000</td>\n",
       "      <td>0.7</td>\n",
       "      <td>[0, 1, 2]</td>\n",
       "      <td>0.000000</td>\n",
       "      <td>1.0</td>\n",
       "      <td>5.5</td>\n",
       "    </tr>\n",
       "    <tr>\n",
       "      <th>13</th>\n",
       "      <td>0.116667</td>\n",
       "      <td>0.0</td>\n",
       "      <td>[0, 1, 2]</td>\n",
       "      <td>0.060870</td>\n",
       "      <td>1.0</td>\n",
       "      <td>5.4</td>\n",
       "    </tr>\n",
       "    <tr>\n",
       "      <th>14</th>\n",
       "      <td>0.000000</td>\n",
       "      <td>0.0</td>\n",
       "      <td>[0, 1, 2]</td>\n",
       "      <td>0.000000</td>\n",
       "      <td>1.0</td>\n",
       "      <td>6.9</td>\n",
       "    </tr>\n",
       "    <tr>\n",
       "      <th>15</th>\n",
       "      <td>0.000000</td>\n",
       "      <td>0.0</td>\n",
       "      <td>[0, 1, 2]</td>\n",
       "      <td>0.000000</td>\n",
       "      <td>1.0</td>\n",
       "      <td>6.4</td>\n",
       "    </tr>\n",
       "    <tr>\n",
       "      <th>16</th>\n",
       "      <td>0.000000</td>\n",
       "      <td>0.0</td>\n",
       "      <td>[0, 1, 2]</td>\n",
       "      <td>0.000000</td>\n",
       "      <td>1.0</td>\n",
       "      <td>6.9</td>\n",
       "    </tr>\n",
       "    <tr>\n",
       "      <th>17</th>\n",
       "      <td>0.000000</td>\n",
       "      <td>0.0</td>\n",
       "      <td>[0, 1, 2]</td>\n",
       "      <td>0.000000</td>\n",
       "      <td>1.0</td>\n",
       "      <td>5.6</td>\n",
       "    </tr>\n",
       "    <tr>\n",
       "      <th>18</th>\n",
       "      <td>0.000000</td>\n",
       "      <td>0.0</td>\n",
       "      <td>[0, 1, 2]</td>\n",
       "      <td>0.000000</td>\n",
       "      <td>2.0</td>\n",
       "      <td>7.0</td>\n",
       "    </tr>\n",
       "    <tr>\n",
       "      <th>19</th>\n",
       "      <td>0.000000</td>\n",
       "      <td>0.0</td>\n",
       "      <td>[0, 1, 2]</td>\n",
       "      <td>0.000000</td>\n",
       "      <td>2.0</td>\n",
       "      <td>7.4</td>\n",
       "    </tr>\n",
       "    <tr>\n",
       "      <th>20</th>\n",
       "      <td>0.202381</td>\n",
       "      <td>0.0</td>\n",
       "      <td>[0, 1, 2]</td>\n",
       "      <td>0.105590</td>\n",
       "      <td>1.0</td>\n",
       "      <td>7.8</td>\n",
       "    </tr>\n",
       "    <tr>\n",
       "      <th>21</th>\n",
       "      <td>0.000000</td>\n",
       "      <td>NaN</td>\n",
       "      <td>[]</td>\n",
       "      <td>0.000000</td>\n",
       "      <td>1.0</td>\n",
       "      <td>6.9</td>\n",
       "    </tr>\n",
       "    <tr>\n",
       "      <th>22</th>\n",
       "      <td>0.000000</td>\n",
       "      <td>0.0</td>\n",
       "      <td>[0, 1, 2]</td>\n",
       "      <td>0.000000</td>\n",
       "      <td>1.0</td>\n",
       "      <td>6.6</td>\n",
       "    </tr>\n",
       "    <tr>\n",
       "      <th>23</th>\n",
       "      <td>0.042857</td>\n",
       "      <td>0.7</td>\n",
       "      <td>[0, 1, 2]</td>\n",
       "      <td>0.022360</td>\n",
       "      <td>1.0</td>\n",
       "      <td>7.0</td>\n",
       "    </tr>\n",
       "    <tr>\n",
       "      <th>24</th>\n",
       "      <td>0.233333</td>\n",
       "      <td>0.7</td>\n",
       "      <td>[0, 1, 2]</td>\n",
       "      <td>0.121739</td>\n",
       "      <td>1.0</td>\n",
       "      <td>5.7</td>\n",
       "    </tr>\n",
       "    <tr>\n",
       "      <th>25</th>\n",
       "      <td>0.042857</td>\n",
       "      <td>0.0</td>\n",
       "      <td>[0, 1, 2]</td>\n",
       "      <td>0.022360</td>\n",
       "      <td>1.0</td>\n",
       "      <td>5.7</td>\n",
       "    </tr>\n",
       "    <tr>\n",
       "      <th>26</th>\n",
       "      <td>0.042857</td>\n",
       "      <td>1.0</td>\n",
       "      <td>[0, 2]</td>\n",
       "      <td>0.022360</td>\n",
       "      <td>1.0</td>\n",
       "      <td>6.5</td>\n",
       "    </tr>\n",
       "    <tr>\n",
       "      <th>27</th>\n",
       "      <td>0.000000</td>\n",
       "      <td>NaN</td>\n",
       "      <td>[]</td>\n",
       "      <td>0.000000</td>\n",
       "      <td>1.0</td>\n",
       "      <td>6.4</td>\n",
       "    </tr>\n",
       "    <tr>\n",
       "      <th>28</th>\n",
       "      <td>0.000000</td>\n",
       "      <td>NaN</td>\n",
       "      <td>[]</td>\n",
       "      <td>0.000000</td>\n",
       "      <td>1.0</td>\n",
       "      <td>6.2</td>\n",
       "    </tr>\n",
       "    <tr>\n",
       "      <th>29</th>\n",
       "      <td>0.000000</td>\n",
       "      <td>NaN</td>\n",
       "      <td>[]</td>\n",
       "      <td>0.000000</td>\n",
       "      <td>1.0</td>\n",
       "      <td>6.4</td>\n",
       "    </tr>\n",
       "    <tr>\n",
       "      <th>...</th>\n",
       "      <td>...</td>\n",
       "      <td>...</td>\n",
       "      <td>...</td>\n",
       "      <td>...</td>\n",
       "      <td>...</td>\n",
       "      <td>...</td>\n",
       "    </tr>\n",
       "    <tr>\n",
       "      <th>1708</th>\n",
       "      <td>0.300000</td>\n",
       "      <td>NaN</td>\n",
       "      <td>[]</td>\n",
       "      <td>0.156522</td>\n",
       "      <td>1.0</td>\n",
       "      <td>5.9</td>\n",
       "    </tr>\n",
       "    <tr>\n",
       "      <th>1709</th>\n",
       "      <td>0.342857</td>\n",
       "      <td>0.0</td>\n",
       "      <td>[0, 1, 2]</td>\n",
       "      <td>0.178882</td>\n",
       "      <td>1.0</td>\n",
       "      <td>6.3</td>\n",
       "    </tr>\n",
       "    <tr>\n",
       "      <th>1710</th>\n",
       "      <td>0.202381</td>\n",
       "      <td>NaN</td>\n",
       "      <td>[]</td>\n",
       "      <td>0.105590</td>\n",
       "      <td>1.0</td>\n",
       "      <td>6.6</td>\n",
       "    </tr>\n",
       "    <tr>\n",
       "      <th>1711</th>\n",
       "      <td>0.042857</td>\n",
       "      <td>0.0</td>\n",
       "      <td>[0, 1, 2]</td>\n",
       "      <td>0.022360</td>\n",
       "      <td>1.0</td>\n",
       "      <td>5.9</td>\n",
       "    </tr>\n",
       "    <tr>\n",
       "      <th>1712</th>\n",
       "      <td>0.042857</td>\n",
       "      <td>0.0</td>\n",
       "      <td>[0, 1, 2]</td>\n",
       "      <td>0.022360</td>\n",
       "      <td>1.0</td>\n",
       "      <td>6.5</td>\n",
       "    </tr>\n",
       "    <tr>\n",
       "      <th>1713</th>\n",
       "      <td>0.159524</td>\n",
       "      <td>0.0</td>\n",
       "      <td>[0, 1, 2]</td>\n",
       "      <td>0.083230</td>\n",
       "      <td>1.0</td>\n",
       "      <td>8.6</td>\n",
       "    </tr>\n",
       "    <tr>\n",
       "      <th>1714</th>\n",
       "      <td>0.000000</td>\n",
       "      <td>0.0</td>\n",
       "      <td>[0, 1, 2]</td>\n",
       "      <td>0.000000</td>\n",
       "      <td>1.0</td>\n",
       "      <td>7.4</td>\n",
       "    </tr>\n",
       "    <tr>\n",
       "      <th>1715</th>\n",
       "      <td>0.245238</td>\n",
       "      <td>0.7</td>\n",
       "      <td>[0, 1, 2]</td>\n",
       "      <td>0.127950</td>\n",
       "      <td>1.0</td>\n",
       "      <td>5.7</td>\n",
       "    </tr>\n",
       "    <tr>\n",
       "      <th>1716</th>\n",
       "      <td>0.435714</td>\n",
       "      <td>0.0</td>\n",
       "      <td>[0, 1, 2]</td>\n",
       "      <td>0.227329</td>\n",
       "      <td>1.0</td>\n",
       "      <td>5.5</td>\n",
       "    </tr>\n",
       "    <tr>\n",
       "      <th>1717</th>\n",
       "      <td>0.042857</td>\n",
       "      <td>NaN</td>\n",
       "      <td>[]</td>\n",
       "      <td>0.022360</td>\n",
       "      <td>1.0</td>\n",
       "      <td>6.6</td>\n",
       "    </tr>\n",
       "    <tr>\n",
       "      <th>1718</th>\n",
       "      <td>0.000000</td>\n",
       "      <td>NaN</td>\n",
       "      <td>[]</td>\n",
       "      <td>0.000000</td>\n",
       "      <td>1.0</td>\n",
       "      <td>6.8</td>\n",
       "    </tr>\n",
       "    <tr>\n",
       "      <th>1719</th>\n",
       "      <td>0.042857</td>\n",
       "      <td>0.0</td>\n",
       "      <td>[0, 1, 2]</td>\n",
       "      <td>0.022360</td>\n",
       "      <td>1.0</td>\n",
       "      <td>7.3</td>\n",
       "    </tr>\n",
       "    <tr>\n",
       "      <th>1720</th>\n",
       "      <td>0.202381</td>\n",
       "      <td>0.0</td>\n",
       "      <td>[0, 1, 2]</td>\n",
       "      <td>0.105590</td>\n",
       "      <td>2.0</td>\n",
       "      <td>8.7</td>\n",
       "    </tr>\n",
       "    <tr>\n",
       "      <th>1721</th>\n",
       "      <td>0.171429</td>\n",
       "      <td>0.0</td>\n",
       "      <td>[0, 1, 2]</td>\n",
       "      <td>0.089441</td>\n",
       "      <td>1.0</td>\n",
       "      <td>6.6</td>\n",
       "    </tr>\n",
       "    <tr>\n",
       "      <th>1722</th>\n",
       "      <td>0.085714</td>\n",
       "      <td>0.0</td>\n",
       "      <td>[0, 1, 2]</td>\n",
       "      <td>0.044720</td>\n",
       "      <td>1.0</td>\n",
       "      <td>6.1</td>\n",
       "    </tr>\n",
       "    <tr>\n",
       "      <th>1723</th>\n",
       "      <td>0.159524</td>\n",
       "      <td>0.0</td>\n",
       "      <td>[0, 1, 2]</td>\n",
       "      <td>0.083230</td>\n",
       "      <td>2.0</td>\n",
       "      <td>8.3</td>\n",
       "    </tr>\n",
       "    <tr>\n",
       "      <th>1724</th>\n",
       "      <td>0.116667</td>\n",
       "      <td>0.0</td>\n",
       "      <td>[0, 1, 2]</td>\n",
       "      <td>0.060870</td>\n",
       "      <td>1.0</td>\n",
       "      <td>6.5</td>\n",
       "    </tr>\n",
       "    <tr>\n",
       "      <th>1725</th>\n",
       "      <td>0.233333</td>\n",
       "      <td>0.0</td>\n",
       "      <td>[0, 1, 2]</td>\n",
       "      <td>0.121739</td>\n",
       "      <td>1.0</td>\n",
       "      <td>7.3</td>\n",
       "    </tr>\n",
       "    <tr>\n",
       "      <th>1726</th>\n",
       "      <td>0.000000</td>\n",
       "      <td>0.7</td>\n",
       "      <td>[0, 1, 2]</td>\n",
       "      <td>0.000000</td>\n",
       "      <td>1.0</td>\n",
       "      <td>5.5</td>\n",
       "    </tr>\n",
       "    <tr>\n",
       "      <th>1727</th>\n",
       "      <td>0.116667</td>\n",
       "      <td>0.0</td>\n",
       "      <td>[0, 1, 2]</td>\n",
       "      <td>0.060870</td>\n",
       "      <td>1.0</td>\n",
       "      <td>6.0</td>\n",
       "    </tr>\n",
       "    <tr>\n",
       "      <th>1728</th>\n",
       "      <td>0.276190</td>\n",
       "      <td>0.0</td>\n",
       "      <td>[0, 1, 2]</td>\n",
       "      <td>0.144099</td>\n",
       "      <td>1.0</td>\n",
       "      <td>6.0</td>\n",
       "    </tr>\n",
       "    <tr>\n",
       "      <th>1729</th>\n",
       "      <td>0.042857</td>\n",
       "      <td>0.0</td>\n",
       "      <td>[0, 1, 2]</td>\n",
       "      <td>0.022360</td>\n",
       "      <td>1.0</td>\n",
       "      <td>7.2</td>\n",
       "    </tr>\n",
       "    <tr>\n",
       "      <th>1730</th>\n",
       "      <td>0.042857</td>\n",
       "      <td>NaN</td>\n",
       "      <td>[]</td>\n",
       "      <td>0.022360</td>\n",
       "      <td>1.0</td>\n",
       "      <td>7.3</td>\n",
       "    </tr>\n",
       "    <tr>\n",
       "      <th>1731</th>\n",
       "      <td>0.000000</td>\n",
       "      <td>0.0</td>\n",
       "      <td>[0, 1, 2]</td>\n",
       "      <td>0.000000</td>\n",
       "      <td>1.0</td>\n",
       "      <td>NaN</td>\n",
       "    </tr>\n",
       "    <tr>\n",
       "      <th>1732</th>\n",
       "      <td>0.000000</td>\n",
       "      <td>0.0</td>\n",
       "      <td>[0, 1, 2]</td>\n",
       "      <td>0.000000</td>\n",
       "      <td>1.0</td>\n",
       "      <td>5.5</td>\n",
       "    </tr>\n",
       "    <tr>\n",
       "      <th>1733</th>\n",
       "      <td>0.085714</td>\n",
       "      <td>0.0</td>\n",
       "      <td>[0, 1, 2]</td>\n",
       "      <td>0.044720</td>\n",
       "      <td>1.0</td>\n",
       "      <td>5.9</td>\n",
       "    </tr>\n",
       "    <tr>\n",
       "      <th>1734</th>\n",
       "      <td>0.116667</td>\n",
       "      <td>0.7</td>\n",
       "      <td>[0, 1, 2]</td>\n",
       "      <td>0.060870</td>\n",
       "      <td>1.0</td>\n",
       "      <td>5.6</td>\n",
       "    </tr>\n",
       "    <tr>\n",
       "      <th>1735</th>\n",
       "      <td>0.159524</td>\n",
       "      <td>0.7</td>\n",
       "      <td>[0, 1, 2]</td>\n",
       "      <td>0.083230</td>\n",
       "      <td>1.0</td>\n",
       "      <td>5.2</td>\n",
       "    </tr>\n",
       "    <tr>\n",
       "      <th>1736</th>\n",
       "      <td>0.042857</td>\n",
       "      <td>0.0</td>\n",
       "      <td>[0, 1, 2]</td>\n",
       "      <td>0.022360</td>\n",
       "      <td>1.0</td>\n",
       "      <td>5.7</td>\n",
       "    </tr>\n",
       "    <tr>\n",
       "      <th>1737</th>\n",
       "      <td>0.085714</td>\n",
       "      <td>0.0</td>\n",
       "      <td>[0, 1, 2]</td>\n",
       "      <td>0.044720</td>\n",
       "      <td>1.0</td>\n",
       "      <td>5.4</td>\n",
       "    </tr>\n",
       "  </tbody>\n",
       "</table>\n",
       "<p>1738 rows × 6 columns</p>\n",
       "</div>"
      ],
      "text/plain": [
       "      trust_score_FS  trust_score_Yelp idx_to_check_Yelp  trust_score_FS_norm  \\\n",
       "0           0.042857               0.0         [0, 1, 2]             0.022360   \n",
       "1           0.000000               0.0         [0, 1, 2]             0.000000   \n",
       "2           0.233333               0.0         [0, 1, 2]             0.121739   \n",
       "3           0.116667               0.7         [0, 1, 2]             0.060870   \n",
       "4           0.000000               NaN                []             0.000000   \n",
       "5           0.000000               0.0         [0, 1, 2]             0.000000   \n",
       "6           0.000000               0.0         [0, 1, 2]             0.000000   \n",
       "7           0.000000               1.0            [0, 2]             0.000000   \n",
       "8           0.116667               0.0         [0, 1, 2]             0.060870   \n",
       "9           0.000000               0.0         [0, 1, 2]             0.000000   \n",
       "10          0.000000               0.7         [0, 1, 2]             0.000000   \n",
       "11          0.116667               0.0            [1, 2]             0.060870   \n",
       "12          0.000000               0.7         [0, 1, 2]             0.000000   \n",
       "13          0.116667               0.0         [0, 1, 2]             0.060870   \n",
       "14          0.000000               0.0         [0, 1, 2]             0.000000   \n",
       "15          0.000000               0.0         [0, 1, 2]             0.000000   \n",
       "16          0.000000               0.0         [0, 1, 2]             0.000000   \n",
       "17          0.000000               0.0         [0, 1, 2]             0.000000   \n",
       "18          0.000000               0.0         [0, 1, 2]             0.000000   \n",
       "19          0.000000               0.0         [0, 1, 2]             0.000000   \n",
       "20          0.202381               0.0         [0, 1, 2]             0.105590   \n",
       "21          0.000000               NaN                []             0.000000   \n",
       "22          0.000000               0.0         [0, 1, 2]             0.000000   \n",
       "23          0.042857               0.7         [0, 1, 2]             0.022360   \n",
       "24          0.233333               0.7         [0, 1, 2]             0.121739   \n",
       "25          0.042857               0.0         [0, 1, 2]             0.022360   \n",
       "26          0.042857               1.0            [0, 2]             0.022360   \n",
       "27          0.000000               NaN                []             0.000000   \n",
       "28          0.000000               NaN                []             0.000000   \n",
       "29          0.000000               NaN                []             0.000000   \n",
       "...              ...               ...               ...                  ...   \n",
       "1708        0.300000               NaN                []             0.156522   \n",
       "1709        0.342857               0.0         [0, 1, 2]             0.178882   \n",
       "1710        0.202381               NaN                []             0.105590   \n",
       "1711        0.042857               0.0         [0, 1, 2]             0.022360   \n",
       "1712        0.042857               0.0         [0, 1, 2]             0.022360   \n",
       "1713        0.159524               0.0         [0, 1, 2]             0.083230   \n",
       "1714        0.000000               0.0         [0, 1, 2]             0.000000   \n",
       "1715        0.245238               0.7         [0, 1, 2]             0.127950   \n",
       "1716        0.435714               0.0         [0, 1, 2]             0.227329   \n",
       "1717        0.042857               NaN                []             0.022360   \n",
       "1718        0.000000               NaN                []             0.000000   \n",
       "1719        0.042857               0.0         [0, 1, 2]             0.022360   \n",
       "1720        0.202381               0.0         [0, 1, 2]             0.105590   \n",
       "1721        0.171429               0.0         [0, 1, 2]             0.089441   \n",
       "1722        0.085714               0.0         [0, 1, 2]             0.044720   \n",
       "1723        0.159524               0.0         [0, 1, 2]             0.083230   \n",
       "1724        0.116667               0.0         [0, 1, 2]             0.060870   \n",
       "1725        0.233333               0.0         [0, 1, 2]             0.121739   \n",
       "1726        0.000000               0.7         [0, 1, 2]             0.000000   \n",
       "1727        0.116667               0.0         [0, 1, 2]             0.060870   \n",
       "1728        0.276190               0.0         [0, 1, 2]             0.144099   \n",
       "1729        0.042857               0.0         [0, 1, 2]             0.022360   \n",
       "1730        0.042857               NaN                []             0.022360   \n",
       "1731        0.000000               0.0         [0, 1, 2]             0.000000   \n",
       "1732        0.000000               0.0         [0, 1, 2]             0.000000   \n",
       "1733        0.085714               0.0         [0, 1, 2]             0.044720   \n",
       "1734        0.116667               0.7         [0, 1, 2]             0.060870   \n",
       "1735        0.159524               0.7         [0, 1, 2]             0.083230   \n",
       "1736        0.042857               0.0         [0, 1, 2]             0.022360   \n",
       "1737        0.085714               0.0         [0, 1, 2]             0.044720   \n",
       "\n",
       "      FS_prices_recent  FS_ratings_recent  \n",
       "0                  1.0                6.8  \n",
       "1                  1.0                6.0  \n",
       "2                  1.0                7.3  \n",
       "3                  1.0                5.5  \n",
       "4                  1.0                6.0  \n",
       "5                  1.0                7.2  \n",
       "6                  1.0                6.9  \n",
       "7                  1.0                5.3  \n",
       "8                  1.0                5.1  \n",
       "9                  1.0                7.3  \n",
       "10                 1.0                6.1  \n",
       "11                 1.0                5.9  \n",
       "12                 1.0                5.5  \n",
       "13                 1.0                5.4  \n",
       "14                 1.0                6.9  \n",
       "15                 1.0                6.4  \n",
       "16                 1.0                6.9  \n",
       "17                 1.0                5.6  \n",
       "18                 2.0                7.0  \n",
       "19                 2.0                7.4  \n",
       "20                 1.0                7.8  \n",
       "21                 1.0                6.9  \n",
       "22                 1.0                6.6  \n",
       "23                 1.0                7.0  \n",
       "24                 1.0                5.7  \n",
       "25                 1.0                5.7  \n",
       "26                 1.0                6.5  \n",
       "27                 1.0                6.4  \n",
       "28                 1.0                6.2  \n",
       "29                 1.0                6.4  \n",
       "...                ...                ...  \n",
       "1708               1.0                5.9  \n",
       "1709               1.0                6.3  \n",
       "1710               1.0                6.6  \n",
       "1711               1.0                5.9  \n",
       "1712               1.0                6.5  \n",
       "1713               1.0                8.6  \n",
       "1714               1.0                7.4  \n",
       "1715               1.0                5.7  \n",
       "1716               1.0                5.5  \n",
       "1717               1.0                6.6  \n",
       "1718               1.0                6.8  \n",
       "1719               1.0                7.3  \n",
       "1720               2.0                8.7  \n",
       "1721               1.0                6.6  \n",
       "1722               1.0                6.1  \n",
       "1723               2.0                8.3  \n",
       "1724               1.0                6.5  \n",
       "1725               1.0                7.3  \n",
       "1726               1.0                5.5  \n",
       "1727               1.0                6.0  \n",
       "1728               1.0                6.0  \n",
       "1729               1.0                7.2  \n",
       "1730               1.0                7.3  \n",
       "1731               1.0                NaN  \n",
       "1732               1.0                5.5  \n",
       "1733               1.0                5.9  \n",
       "1734               1.0                5.6  \n",
       "1735               1.0                5.2  \n",
       "1736               1.0                5.7  \n",
       "1737               1.0                5.4  \n",
       "\n",
       "[1738 rows x 6 columns]"
      ]
     },
     "execution_count": 98,
     "metadata": {},
     "output_type": "execute_result"
    }
   ],
   "source": [
    "trust_scores_df"
   ]
  },
  {
   "cell_type": "code",
   "execution_count": 105,
   "metadata": {},
   "outputs": [],
   "source": [
    "Yelp_prices_recent = []\n",
    "Yelp_ratings_recent = []\n",
    "for restaurant_idx in range(len(trust_scores_df)):\n",
    "    if not trust_scores_df['idx_to_check_Yelp'][restaurant_idx]:\n",
    "        Yelp_prices_recent.append(None)\n",
    "        Yelp_ratings_recent.append(None)\n",
    "    else:\n",
    "        if 'price' in Yelp_json_list[trust_scores_df['idx_to_check_Yelp'][restaurant_idx][-1]][restaurant_idx]:\n",
    "            Yelp_price = Yelp_json_list[trust_scores_df['idx_to_check_Yelp'][restaurant_idx][-1]][restaurant_idx]['price']\n",
    "            if Yelp_price:\n",
    "                Yelp_prices_recent.append(len(Yelp_price))\n",
    "            else:\n",
    "                Yelp_prices_recent.append(None)\n",
    "        else:\n",
    "            Yelp_prices_recent.append(None)\n",
    "        if 'rating' in Yelp_json_list[trust_scores_df['idx_to_check_Yelp'][restaurant_idx][-1]][restaurant_idx]:\n",
    "            Yelp_rating = Yelp_json_list[trust_scores_df['idx_to_check_Yelp'][restaurant_idx][-1]][restaurant_idx]['rating']\n",
    "            if Yelp_rating:\n",
    "                Yelp_ratings_recent.append(Yelp_rating)\n",
    "            else:\n",
    "                Yelp_ratings_recent.append(None)\n",
    "        else:\n",
    "            Yelp_ratings_recent.append(None)"
   ]
  },
  {
   "cell_type": "code",
   "execution_count": 107,
   "metadata": {},
   "outputs": [
    {
     "data": {
      "text/plain": [
       "1738"
      ]
     },
     "execution_count": 107,
     "metadata": {},
     "output_type": "execute_result"
    }
   ],
   "source": [
    "len(Yelp_prices_recent)"
   ]
  },
  {
   "cell_type": "code",
   "execution_count": 108,
   "metadata": {},
   "outputs": [
    {
     "data": {
      "text/plain": [
       "1738"
      ]
     },
     "execution_count": 108,
     "metadata": {},
     "output_type": "execute_result"
    }
   ],
   "source": [
    "len(Yelp_ratings_recent)"
   ]
  },
  {
   "cell_type": "code",
   "execution_count": 109,
   "metadata": {},
   "outputs": [],
   "source": [
    "se = pd.Series(Yelp_prices_recent)\n",
    "trust_scores_df['Yelp_prices_recent'] = se.values"
   ]
  },
  {
   "cell_type": "code",
   "execution_count": 110,
   "metadata": {},
   "outputs": [],
   "source": [
    "se = pd.Series(Yelp_ratings_recent)\n",
    "trust_scores_df['Yelp_ratings_recent'] = se.values"
   ]
  },
  {
   "cell_type": "code",
   "execution_count": 112,
   "metadata": {},
   "outputs": [],
   "source": [
    "trust_scores_df.to_pickle('trust_scores_df')"
   ]
  },
  {
   "cell_type": "code",
   "execution_count": null,
   "metadata": {},
   "outputs": [],
   "source": []
  }
 ],
 "metadata": {
  "kernelspec": {
   "display_name": "Python 3",
   "language": "python",
   "name": "python3"
  },
  "language_info": {
   "codemirror_mode": {
    "name": "ipython",
    "version": 3
   },
   "file_extension": ".py",
   "mimetype": "text/x-python",
   "name": "python",
   "nbconvert_exporter": "python",
   "pygments_lexer": "ipython3",
   "version": "3.6.6"
  }
 },
 "nbformat": 4,
 "nbformat_minor": 2
}
