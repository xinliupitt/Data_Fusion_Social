{
 "cells": [
  {
   "cell_type": "code",
   "execution_count": 1,
   "metadata": {},
   "outputs": [],
   "source": [
    "import json\n",
    "import pandas as pd"
   ]
  },
  {
   "cell_type": "code",
   "execution_count": 2,
   "metadata": {},
   "outputs": [],
   "source": [
    "trust_score_weight = [0.3, 0.7]\n",
    "smoother = 0.001"
   ]
  },
  {
   "cell_type": "markdown",
   "metadata": {},
   "source": [
    "# Compute Foursquare trust score for each tuple"
   ]
  },
  {
   "cell_type": "code",
   "execution_count": 3,
   "metadata": {},
   "outputs": [],
   "source": [
    "def open_fs_json(fs_file_name):\n",
    "    \"\"\"Read foursquare json files\n",
    "    input: foursquare file name\n",
    "    output: json_formatted restaurant tuples\n",
    "    \"\"\"\n",
    "    with open(fs_file_name) as fs_json:\n",
    "        fs_restaurants = json.load(fs_json)\n",
    "    return fs_restaurants"
   ]
  },
  {
   "cell_type": "code",
   "execution_count": 4,
   "metadata": {},
   "outputs": [
    {
     "ename": "FileNotFoundError",
     "evalue": "[Errno 2] No such file or directory: 'Semiar_FS_0324.json'",
     "output_type": "error",
     "traceback": [
      "\u001b[0;31m---------------------------------------------------------------------------\u001b[0m",
      "\u001b[0;31mFileNotFoundError\u001b[0m                         Traceback (most recent call last)",
      "\u001b[0;32m<ipython-input-4-49416d8286bb>\u001b[0m in \u001b[0;36m<module>\u001b[0;34m\u001b[0m\n\u001b[1;32m      1\u001b[0m \u001b[0;31m# load foursquare restaurant tuples for each data collection day: 0324, 0331, 0406\u001b[0m\u001b[0;34m\u001b[0m\u001b[0;34m\u001b[0m\u001b[0m\n\u001b[0;32m----> 2\u001b[0;31m \u001b[0mfs_restaurants_0324\u001b[0m \u001b[0;34m=\u001b[0m \u001b[0mopen_fs_json\u001b[0m\u001b[0;34m(\u001b[0m\u001b[0;34m'Semiar_FS_0324.json'\u001b[0m\u001b[0;34m)\u001b[0m\u001b[0;34m\u001b[0m\u001b[0m\n\u001b[0m\u001b[1;32m      3\u001b[0m \u001b[0mfs_restaurants_0331\u001b[0m \u001b[0;34m=\u001b[0m \u001b[0mopen_fs_json\u001b[0m\u001b[0;34m(\u001b[0m\u001b[0;34m'Semiar_FS_0331.json'\u001b[0m\u001b[0;34m)\u001b[0m\u001b[0;34m\u001b[0m\u001b[0m\n\u001b[1;32m      4\u001b[0m \u001b[0mfs_restaurants_0406\u001b[0m \u001b[0;34m=\u001b[0m \u001b[0mopen_fs_json\u001b[0m\u001b[0;34m(\u001b[0m\u001b[0;34m'Semiar_FS_0406.json'\u001b[0m\u001b[0;34m)\u001b[0m\u001b[0;34m\u001b[0m\u001b[0m\n",
      "\u001b[0;32m<ipython-input-3-2804aa6c03f7>\u001b[0m in \u001b[0;36mopen_fs_json\u001b[0;34m(fs_file_name)\u001b[0m\n\u001b[1;32m      4\u001b[0m     \u001b[0moutput\u001b[0m\u001b[0;34m:\u001b[0m \u001b[0mjson_formatted\u001b[0m \u001b[0mrestaurant\u001b[0m \u001b[0mtuples\u001b[0m\u001b[0;34m\u001b[0m\u001b[0m\n\u001b[1;32m      5\u001b[0m     \"\"\"\n\u001b[0;32m----> 6\u001b[0;31m     \u001b[0;32mwith\u001b[0m \u001b[0mopen\u001b[0m\u001b[0;34m(\u001b[0m\u001b[0mfs_file_name\u001b[0m\u001b[0;34m)\u001b[0m \u001b[0;32mas\u001b[0m \u001b[0mfs_json\u001b[0m\u001b[0;34m:\u001b[0m\u001b[0;34m\u001b[0m\u001b[0m\n\u001b[0m\u001b[1;32m      7\u001b[0m         \u001b[0mfs_restaurants\u001b[0m \u001b[0;34m=\u001b[0m \u001b[0mjson\u001b[0m\u001b[0;34m.\u001b[0m\u001b[0mload\u001b[0m\u001b[0;34m(\u001b[0m\u001b[0mfs_json\u001b[0m\u001b[0;34m)\u001b[0m\u001b[0;34m\u001b[0m\u001b[0m\n\u001b[1;32m      8\u001b[0m     \u001b[0;32mreturn\u001b[0m \u001b[0mfs_restaurants\u001b[0m\u001b[0;34m\u001b[0m\u001b[0m\n",
      "\u001b[0;31mFileNotFoundError\u001b[0m: [Errno 2] No such file or directory: 'Semiar_FS_0324.json'"
     ]
    }
   ],
   "source": [
    "# load foursquare restaurant tuples for each data collection day: 0324, 0331, 0406\n",
    "fs_restaurants_0324 = open_fs_json('data/Semiar_FS_0324.json')\n",
    "fs_restaurants_0331 = open_fs_json('data/Semiar_FS_0331.json')\n",
    "fs_restaurants_0406 = open_fs_json('data/Semiar_FS_0406.json')"
   ]
  },
  {
   "cell_type": "code",
   "execution_count": null,
   "metadata": {},
   "outputs": [],
   "source": [
    "def json_to_checkin(fs_restaurants):\n",
    "    \"\"\"extract checkins for each restaurant tuple\n",
    "    input: json_formatted restaurant tuples\n",
    "    output: list of restaurant-wise checkins\n",
    "    \"\"\"\n",
    "    restaurant_checkins_list = []\n",
    "    for restaurant in fs_restaurants:\n",
    "        checkin = restaurant['response']['venue']['stats']['checkinsCount']\n",
    "        restaurant_checkins_list.append(checkin)\n",
    "    return restaurant_checkins_list"
   ]
  },
  {
   "cell_type": "code",
   "execution_count": null,
   "metadata": {},
   "outputs": [],
   "source": [
    "# generate foursquare restaurant checkin lists for each data collection day: 0324, 0331, 0406\n",
    "restaurant_checkins_list_0324 = json_to_checkin(fs_restaurants_0324)\n",
    "restaurant_checkins_list_0331 = json_to_checkin(fs_restaurants_0331)\n",
    "restaurant_checkins_list_0406 = json_to_checkin(fs_restaurants_0406)"
   ]
  },
  {
   "cell_type": "code",
   "execution_count": null,
   "metadata": {},
   "outputs": [],
   "source": [
    "def checkin_to_diff(checkins_lists, durations):\n",
    "    \"\"\"generate checkin differences for each duration of data collection\n",
    "    input: all checkins lists, length(number of days) of each duration\n",
    "    ouput: lists of checkins differences\n",
    "    \n",
    "    \"\"\"\n",
    "    checkins_diffs_list = []\n",
    "    for lists_idx in range(len(checkins_lists)-1):\n",
    "        # a pair of checkins is zipped together for computational convenience\n",
    "        list_pair_zipped = list(zip(checkins_lists[lists_idx],checkins_lists[lists_idx+1]))\n",
    "#         checkins_diff = []\n",
    "        for pair_idx in range(len(list_pair_zipped)):# the element update should be assisted by index\n",
    "        # daily difference\n",
    "            list_pair_zipped[pair_idx] \\\n",
    "            = (list_pair_zipped[pair_idx][1]-list_pair_zipped[pair_idx][0])/durations[lists_idx]\n",
    "        checkins_diffs_list.append(list_pair_zipped)\n",
    "    return checkins_diffs_list"
   ]
  },
  {
   "cell_type": "code",
   "execution_count": null,
   "metadata": {},
   "outputs": [],
   "source": [
    "checkins_lists = [restaurant_checkins_list_0324, restaurant_checkins_list_0331, restaurant_checkins_list_0406]\n",
    "durations = [7,6]"
   ]
  },
  {
   "cell_type": "code",
   "execution_count": null,
   "metadata": {},
   "outputs": [],
   "source": [
    "# lists of checkins differences\n",
    "checkins_diffs_list = checkin_to_diff(checkins_lists, durations)"
   ]
  },
  {
   "cell_type": "code",
   "execution_count": null,
   "metadata": {},
   "outputs": [],
   "source": [
    "# zipped difference together\n",
    "checkins_diffs_zipped = list(zip(*checkins_diffs_list))"
   ]
  },
  {
   "cell_type": "code",
   "execution_count": null,
   "metadata": {},
   "outputs": [],
   "source": [
    "# Foursquare\n",
    "# sum up the daily difference to obtain the trust value for each tuple\n",
    "trust_scores_list_FS = []\n",
    "for diffs in checkins_diffs_zipped:\n",
    "    trust_score_FS = trust_score_weight[0]*abs(diffs[0]) + trust_score_weight[1]*abs(diffs[1])\n",
    "    trust_scores_list_FS.append(trust_score_FS)"
   ]
  },
  {
   "cell_type": "code",
   "execution_count": null,
   "metadata": {},
   "outputs": [],
   "source": [
    "# trust score for the first 5 restaurants\n",
    "trust_scores_list_FS[0:5]"
   ]
  },
  {
   "cell_type": "code",
   "execution_count": null,
   "metadata": {},
   "outputs": [],
   "source": [
    "# dataframe to save trust scores\n",
    "trust_scores_df = pd.DataFrame({'trust_score_FS':trust_scores_list_FS})"
   ]
  },
  {
   "cell_type": "code",
   "execution_count": null,
   "metadata": {},
   "outputs": [],
   "source": [
    "trust_scores_df.to_pickle('trust_scores_df')"
   ]
  },
  {
   "cell_type": "markdown",
   "metadata": {},
   "source": [
    "# Compute Yelp trust score for each tuple"
   ]
  },
  {
   "cell_type": "code",
   "execution_count": null,
   "metadata": {},
   "outputs": [],
   "source": [
    "with open('Semiar_Yelp_0331.json') as Yelp_json:\n",
    "    Yelp_restaurants = json.load(Yelp_json)"
   ]
  },
  {
   "cell_type": "code",
   "execution_count": null,
   "metadata": {},
   "outputs": [],
   "source": [
    "'id' in Yelp_restaurants[4]"
   ]
  },
  {
   "cell_type": "code",
   "execution_count": null,
   "metadata": {},
   "outputs": [],
   "source": [
    "def open_Yelp_json(Yelp_file_name):\n",
    "    \"\"\"Read Yelp json files\n",
    "    input: Yelp file name\n",
    "    output: json_formatted restaurant tuples\n",
    "    \"\"\"\n",
    "    with open(Yelp_file_name) as Yelp_json:\n",
    "        Yelp_restaurants = json.load(Yelp_json)\n",
    "    return Yelp_restaurants"
   ]
  },
  {
   "cell_type": "code",
   "execution_count": null,
   "metadata": {},
   "outputs": [],
   "source": [
    "# load foursquare restaurant tuples for each data collection day: 0324, 0331, 0406\n",
    "Yelp_restaurants_0324 = open_Yelp_json('Semiar_Yelp_0324.json')\n",
    "Yelp_restaurants_0331 = open_Yelp_json('Semiar_Yelp_0331.json')\n",
    "Yelp_restaurants_0406 = open_Yelp_json('Semiar_Yelp_0406.json')"
   ]
  },
  {
   "cell_type": "code",
   "execution_count": null,
   "metadata": {},
   "outputs": [],
   "source": [
    "def availability_Yelp(Yelp_json_list):\n",
    "    \"\"\" whether a Yelp restaurant info is available for a date\n",
    "    input: Yelp json files\n",
    "    output: restaurant availability\n",
    "    \"\"\"\n",
    "    Yelp_availability = []\n",
    "    for daily_json in Yelp_json_list:\n",
    "        Yelp_daily_availability = []\n",
    "        for restaurant in daily_json:\n",
    "            Yelp_daily_availability.append('id' in restaurant)\n",
    "        Yelp_availability.append(Yelp_daily_availability)\n",
    "    return Yelp_availability"
   ]
  },
  {
   "cell_type": "code",
   "execution_count": null,
   "metadata": {},
   "outputs": [],
   "source": [
    "Yelp_json_list = [Yelp_restaurants_0324, Yelp_restaurants_0331, Yelp_restaurants_0406]\n",
    "Yelp_availability = availability_Yelp(Yelp_json_list)"
   ]
  },
  {
   "cell_type": "code",
   "execution_count": null,
   "metadata": {},
   "outputs": [],
   "source": [
    "# zip availability\n",
    "Yelp_availability_zipped = list(zip(*Yelp_availability))"
   ]
  },
  {
   "cell_type": "code",
   "execution_count": null,
   "metadata": {},
   "outputs": [],
   "source": [
    "idx_to_check = []\n",
    "for availability in Yelp_availability_zipped:\n",
    "    True_list  = []\n",
    "    for date_idx in range(len(availability)):\n",
    "        if availability[date_idx] == True:\n",
    "            True_list.append(date_idx)\n",
    "    idx_to_check.append(True_list)"
   ]
  },
  {
   "cell_type": "code",
   "execution_count": null,
   "metadata": {},
   "outputs": [],
   "source": [
    "def diff_Yelp(Yelp_tuple_0, Yelp_tuple_1):\n",
    "    \"\"\" whether to add a trust score\n",
    "    input: Yelp json tuples\n",
    "    output: 1 or 0 (whethr to add or not)\n",
    "    \"\"\"\n",
    "    if (Yelp_tuple_0['image_url'] != Yelp_tuple_1['image_url'])\\\n",
    "    or (Yelp_tuple_0['photos'] != Yelp_tuple_1['photos']):\n",
    "        return 1\n",
    "    else:\n",
    "        return 0"
   ]
  },
  {
   "cell_type": "code",
   "execution_count": null,
   "metadata": {},
   "outputs": [],
   "source": [
    "trust_scores_list_Yelp = []\n",
    "for restaurant_idx in range(len(Yelp_restaurants_0324)):\n",
    "    if len(idx_to_check[restaurant_idx]) == 3:\n",
    "        trust_score_Yelp = trust_score_weight[0] * diff_Yelp(Yelp_json_list[idx_to_check[restaurant_idx][0]][restaurant_idx], \\\n",
    "                                                    Yelp_json_list[idx_to_check[restaurant_idx][1]][restaurant_idx]) \\\n",
    "                            + trust_score_weight[1] * diff_Yelp(Yelp_json_list[idx_to_check[restaurant_idx][1]][restaurant_idx], \\\n",
    "                                                    Yelp_json_list[idx_to_check[restaurant_idx][2]][restaurant_idx])\n",
    "    elif len(idx_to_check[restaurant_idx]) == 2:\n",
    "        trust_score_Yelp = diff_Yelp(Yelp_json_list[idx_to_check[restaurant_idx][0]][restaurant_idx], \\\n",
    "                                     Yelp_json_list[idx_to_check[restaurant_idx][1]][restaurant_idx])\n",
    "    else:\n",
    "        trust_score_Yelp = 0\n",
    "    trust_scores_list_Yelp.append(trust_score_Yelp)"
   ]
  },
  {
   "cell_type": "code",
   "execution_count": null,
   "metadata": {},
   "outputs": [],
   "source": [
    "trust_scores_df = pd.read_pickle('trust_scores_df')"
   ]
  },
  {
   "cell_type": "code",
   "execution_count": null,
   "metadata": {},
   "outputs": [],
   "source": [
    "se = pd.Series(trust_scores_list_Yelp)\n",
    "trust_scores_df['trust_score_Yelp'] = se.values"
   ]
  },
  {
   "cell_type": "code",
   "execution_count": null,
   "metadata": {},
   "outputs": [],
   "source": [
    "se = pd.Series(idx_to_check)\n",
    "trust_scores_df['idx_to_check_Yelp'] = se.values"
   ]
  },
  {
   "cell_type": "code",
   "execution_count": null,
   "metadata": {},
   "outputs": [],
   "source": [
    "trust_scores_list_FS = trust_scores_df['trust_score_FS'].tolist()"
   ]
  },
  {
   "cell_type": "code",
   "execution_count": null,
   "metadata": {},
   "outputs": [],
   "source": [
    "sorted(trust_scores_list_FS, reverse = True)[0:5]"
   ]
  },
  {
   "cell_type": "code",
   "execution_count": null,
   "metadata": {},
   "outputs": [],
   "source": [
    "# Treat 49.10238095238095 and 9.72857142857143 as outliers\n",
    "# normalize trust_score_FS\n",
    "trust_scores_list_FS_norm = []\n",
    "min_trust_score_FS = min(trust_scores_list_FS)\n",
    "max_trust_score_FS = 1.9166666666666665\n",
    "for trust_score in trust_scores_list_FS:\n",
    "    if trust_score > 2:\n",
    "        trust_scores_list_FS_norm.append(1)\n",
    "    else:\n",
    "        trust_score_norm = (float(trust_score) - min_trust_score_FS)/(max_trust_score_FS - min_trust_score_FS)\n",
    "        trust_scores_list_FS_norm.append(trust_score_norm)"
   ]
  },
  {
   "cell_type": "code",
   "execution_count": null,
   "metadata": {},
   "outputs": [],
   "source": [
    "se = pd.Series(trust_scores_list_FS_norm)\n",
    "trust_scores_df['trust_score_FS_norm'] = se.values"
   ]
  },
  {
   "cell_type": "code",
   "execution_count": null,
   "metadata": {},
   "outputs": [],
   "source": [
    "trust_scores_df.to_pickle('trust_scores_df')"
   ]
  },
  {
   "cell_type": "markdown",
   "metadata": {},
   "source": [
    "# Merge Foursquare and Yelp"
   ]
  },
  {
   "cell_type": "code",
   "execution_count": null,
   "metadata": {},
   "outputs": [],
   "source": [
    "# nullify trust_score_Yelp with no Yelp records\n",
    "for restaurant_idx in range(len(trust_scores_df)):\n",
    "    if not trust_scores_df['idx_to_check_Yelp'][restaurant_idx]:\n",
    "        trust_scores_df['trust_score_Yelp'][restaurant_idx] = None"
   ]
  },
  {
   "cell_type": "code",
   "execution_count": null,
   "metadata": {},
   "outputs": [],
   "source": [
    "Foursquare_prices_recent = []\n",
    "Foursquare_ratings_recent = []\n",
    "for restaurant in fs_restaurants_0406:\n",
    "    if 'price' in restaurant['response']['venue']:\n",
    "        Foursquare_prices_recent.append(restaurant['response']['venue']['price']['tier'])\n",
    "    else:\n",
    "        Foursquare_prices_recent.append(None)\n",
    "    if 'rating' in restaurant['response']['venue']:\n",
    "        Foursquare_ratings_recent.append(restaurant['response']['venue']['rating'])\n",
    "    else:\n",
    "        Foursquare_ratings_recent.append(None)"
   ]
  },
  {
   "cell_type": "code",
   "execution_count": null,
   "metadata": {},
   "outputs": [],
   "source": [
    "se = pd.Series(Foursquare_prices_recent)\n",
    "trust_scores_df['FS_prices_recent'] = se.values"
   ]
  },
  {
   "cell_type": "code",
   "execution_count": null,
   "metadata": {},
   "outputs": [],
   "source": [
    "se = pd.Series(Foursquare_ratings_recent)\n",
    "trust_scores_df['FS_ratings_recent'] = se.values"
   ]
  },
  {
   "cell_type": "code",
   "execution_count": null,
   "metadata": {},
   "outputs": [],
   "source": [
    "trust_scores_df.to_pickle('trust_scores_df')"
   ]
  },
  {
   "cell_type": "code",
   "execution_count": null,
   "metadata": {},
   "outputs": [],
   "source": [
    "Yelp_prices_recent = []\n",
    "Yelp_ratings_recent = []\n",
    "for restaurant_idx in range(len(trust_scores_df)):\n",
    "    if not trust_scores_df['idx_to_check_Yelp'][restaurant_idx]:\n",
    "        Yelp_prices_recent.append(None)\n",
    "        Yelp_ratings_recent.append(None)\n",
    "    else:\n",
    "        if 'price' in Yelp_json_list[trust_scores_df['idx_to_check_Yelp'][restaurant_idx][-1]][restaurant_idx]:\n",
    "            Yelp_price = Yelp_json_list[trust_scores_df['idx_to_check_Yelp'][restaurant_idx][-1]][restaurant_idx]['price']\n",
    "            if Yelp_price:\n",
    "                Yelp_prices_recent.append(len(Yelp_price))\n",
    "            else:\n",
    "                Yelp_prices_recent.append(None)\n",
    "        else:\n",
    "            Yelp_prices_recent.append(None)\n",
    "        if 'rating' in Yelp_json_list[trust_scores_df['idx_to_check_Yelp'][restaurant_idx][-1]][restaurant_idx]:\n",
    "            Yelp_rating = Yelp_json_list[trust_scores_df['idx_to_check_Yelp'][restaurant_idx][-1]][restaurant_idx]['rating']\n",
    "            if Yelp_rating:\n",
    "                Yelp_ratings_recent.append(Yelp_rating)\n",
    "            else:\n",
    "                Yelp_ratings_recent.append(None)\n",
    "        else:\n",
    "            Yelp_ratings_recent.append(None)"
   ]
  },
  {
   "cell_type": "code",
   "execution_count": null,
   "metadata": {},
   "outputs": [],
   "source": [
    "se = pd.Series(Yelp_prices_recent)\n",
    "trust_scores_df['Yelp_prices_recent'] = se.values"
   ]
  },
  {
   "cell_type": "code",
   "execution_count": null,
   "metadata": {},
   "outputs": [],
   "source": [
    "se = pd.Series(Yelp_ratings_recent)\n",
    "trust_scores_df['Yelp_ratings_recent'] = se.values"
   ]
  },
  {
   "cell_type": "code",
   "execution_count": null,
   "metadata": {},
   "outputs": [],
   "source": [
    "trust_scores_df.to_pickle('trust_scores_df')"
   ]
  },
  {
   "cell_type": "code",
   "execution_count": null,
   "metadata": {},
   "outputs": [],
   "source": [
    "# let Yelp rating go to the same range as Foursquare\n",
    "for restaurant_idx in range(len(trust_scores_df)):\n",
    "    trust_scores_df['Yelp_ratings_recent'][restaurant_idx] *= 2"
   ]
  },
  {
   "cell_type": "code",
   "execution_count": null,
   "metadata": {},
   "outputs": [],
   "source": [
    "trust_scores_df.to_pickle('trust_scores_df')"
   ]
  },
  {
   "cell_type": "code",
   "execution_count": null,
   "metadata": {},
   "outputs": [],
   "source": [
    "prices_merge = []\n",
    "ratings_merge = []\n",
    "for restaurant_idx in range(len(trust_scores_df)):\n",
    "    # prices\n",
    "    if (str(trust_scores_df['Yelp_prices_recent'][restaurant_idx]) == 'nan')\\\n",
    "     or (str(trust_scores_df['trust_score_Yelp'][restaurant_idx]) == 'nan'):\n",
    "        if str(trust_scores_df['FS_prices_recent'][restaurant_idx]) == 'nan':\n",
    "            price_merge = None\n",
    "        else:\n",
    "            price_merge = trust_scores_df['FS_prices_recent'][restaurant_idx]\n",
    "    else:\n",
    "        if str(trust_scores_df['FS_prices_recent'][restaurant_idx]) == 'nan':\n",
    "            price_merge = trust_scores_df['Yelp_prices_recent'][restaurant_idx]\n",
    "        else:\n",
    "            if trust_scores_df['trust_score_FS_norm'][restaurant_idx] >=\\\n",
    "                trust_scores_df['trust_score_Yelp'][restaurant_idx]:\n",
    "                price_merge = trust_scores_df['FS_prices_recent'][restaurant_idx]\n",
    "            else:\n",
    "                price_merge = trust_scores_df['Yelp_prices_recent'][restaurant_idx]\n",
    "    prices_merge.append(price_merge)\n",
    "    \n",
    "    # ratings\n",
    "    if (str(trust_scores_df['Yelp_ratings_recent'][restaurant_idx]) == 'nan')\\\n",
    "     or (str(trust_scores_df['trust_score_Yelp'][restaurant_idx]) == 'nan'):\n",
    "        if str(trust_scores_df['FS_ratings_recent'][restaurant_idx]) == 'nan':\n",
    "            rating_merge = None\n",
    "        else:\n",
    "            rating_merge = trust_scores_df['FS_ratings_recent'][restaurant_idx]\n",
    "    else:\n",
    "        if str(trust_scores_df['FS_prices_recent'][restaurant_idx]) == 'nan':\n",
    "            rating_merge = trust_scores_df['Yelp_ratings_recent'][restaurant_idx]\n",
    "        else:\n",
    "            denominator = (trust_scores_df['trust_score_FS_norm'][restaurant_idx] + \\\n",
    "                           trust_scores_df['trust_score_Yelp'][restaurant_idx] + 2*smoother)\n",
    "            rating_merge = (trust_scores_df['trust_score_FS_norm'][restaurant_idx]+smoother)/denominator*trust_scores_df['FS_ratings_recent'][restaurant_idx]\\\n",
    "            + (trust_scores_df['trust_score_Yelp'][restaurant_idx]+smoother)/denominator*trust_scores_df['Yelp_ratings_recent'][restaurant_idx]\n",
    "    ratings_merge.append(rating_merge)"
   ]
  },
  {
   "cell_type": "code",
   "execution_count": null,
   "metadata": {},
   "outputs": [],
   "source": [
    "se = pd.Series(prices_merge)\n",
    "trust_scores_df['prices_merge'] = se.values"
   ]
  },
  {
   "cell_type": "code",
   "execution_count": null,
   "metadata": {},
   "outputs": [],
   "source": [
    "se = pd.Series(ratings_merge)\n",
    "trust_scores_df['ratings_merge'] = se.values"
   ]
  },
  {
   "cell_type": "code",
   "execution_count": null,
   "metadata": {},
   "outputs": [],
   "source": [
    "trust_scores_df.to_pickle('trust_scores_df')"
   ]
  },
  {
   "cell_type": "markdown",
   "metadata": {},
   "source": [
    "# Preview of Merged Price Tiers and Ratings"
   ]
  },
  {
   "cell_type": "code",
   "execution_count": null,
   "metadata": {},
   "outputs": [],
   "source": [
    "trust_scores_df['prices_merge'][0:5]"
   ]
  },
  {
   "cell_type": "code",
   "execution_count": null,
   "metadata": {},
   "outputs": [],
   "source": [
    "trust_scores_df['ratings_merge'][0:5]"
   ]
  },
  {
   "cell_type": "code",
   "execution_count": null,
   "metadata": {},
   "outputs": [],
   "source": []
  }
 ],
 "metadata": {
  "kernelspec": {
   "display_name": "Python 3",
   "language": "python",
   "name": "python3"
  },
  "language_info": {
   "codemirror_mode": {
    "name": "ipython",
    "version": 3
   },
   "file_extension": ".py",
   "mimetype": "text/x-python",
   "name": "python",
   "nbconvert_exporter": "python",
   "pygments_lexer": "ipython3",
   "version": "3.5.2"
  }
 },
 "nbformat": 4,
 "nbformat_minor": 2
}
